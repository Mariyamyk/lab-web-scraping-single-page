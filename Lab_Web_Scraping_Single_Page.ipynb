{
 "cells": [
  {
   "cell_type": "code",
   "execution_count": 8,
   "id": "0677ed4e",
   "metadata": {},
   "outputs": [],
   "source": [
    "import requests\n",
    "from bs4 import BeautifulSoup\n",
    "import pandas as pd"
   ]
  },
  {
   "cell_type": "code",
   "execution_count": 2,
   "id": "f95d767c",
   "metadata": {},
   "outputs": [],
   "source": [
    "r = requests.get('https://www.billboard.com/charts/hot-100/')\n",
    "soup = BeautifulSoup(r.content, 'html.parser')"
   ]
  },
  {
   "cell_type": "code",
   "execution_count": 3,
   "id": "2aca1d73",
   "metadata": {},
   "outputs": [
    {
     "name": "stdout",
     "output_type": "stream",
     "text": [
      "['1', '2', '3', '4', '5', '6', '7', '8', '9', '10', '11', '12', '13', '14', '15', '16', '17', '18', '19', '20', '21', '22', '23', '24', '25', '26', '27', '28', '29', '30', '31', '32', '33', '34', '35', '36', '37', '38', '39', '40', '41', '42', '43', '44', '45', '46', '47', '48', '49', '50', '51', '52', '53', '54', '55', '56', '57', '58', '59', '60', '61', '62', '63', '64', '65', '66', '67', '68', '69', '70', '71', '72', '73', '74', '75', '76', '77', '78', '79', '80', '81', '82', '83', '84', '85', '86', '87', '88', '89', '90', '91', '92', '93', '94', '95', '96', '97', '98', '99', '100']\n"
     ]
    }
   ],
   "source": [
    "chart_row=[i.find('span').text.strip() for i in soup.find_all('div', class_='o-chart-results-list-row-container')]\n",
    "print(chart_row)"
   ]
  },
  {
   "cell_type": "code",
   "execution_count": 4,
   "id": "96845bb6",
   "metadata": {},
   "outputs": [
    {
     "name": "stdout",
     "output_type": "stream",
     "text": [
      "['Flowers', 'Kill Bill', \"Boy's A Liar, Pt. 2\", \"Creepin'\", 'Last Night', 'Die For You', 'Unholy', 'Anti-Hero', 'Cuff It', \"I'm Good (Blue)\", 'Just Wanna Rock', 'As It Was', 'Thank God', 'Rich Flex', 'Thought You Should Know', 'Rock And A Hard Place', 'Players', 'Under The Influence', 'Calm Down', 'You Proof', 'Made You Look', 'Lavender Haze', 'Escapism', 'Going, Going, Gone', 'Superhero (Heroes & Villains)', 'Something In The Orange', 'Golden Hour', 'Sure Thing', 'Heart Like A Truck', 'Bad Habit', 'Until I Found You', 'Shirt', 'Snooze', 'Painting Pictures', 'Wait For U', 'The Kind Of Love We Make', 'I Like You (A Happier Song)', 'Love You Anyway', 'Bebe Dame', 'Bzrp Music Sessions, Vol. 53', 'Wait In The Truck', 'She Had Me At Heads Carolina', 'Dawns', 'What My World Spins Around', 'About Damn Time', 'Tomorrow 2', 'Bloody Mary', 'Nobody Gets Me', 'Hope', 'Unstoppable', 'Favorite Song', 'Lift Me Up', \"What He Didn't Do\", 'Love Again', 'Special', 'Que Vuelvas', 'Spin Bout U', 'Handle On You', 'Wild As Her', 'One Thing At A Time', 'I Wrote The Book', 'Watch This (ARIZONATEARS Pluggnb Remix)', 'Heaven', 'Freestyle', 'Low', 'Tennessee Orange', 'Next Thing You Know', 'In Ha Mood', 'No Time Wasted', 'AMG', \"You Didn't\", 'Nonsense', '10:35', 'Lost', 'Ceilings', 'Trance', \"That's What Tequila Does\", 'Here With Me', 'PRC', 'Everything I Love', 'Forever', 'No Se Va', 'Lottery', 'The Color Violet', 'Human', 'Love You Better', \"Dancin' In The Country\", 'Hey Mor', 'OMG', 'Yandel 150', 'X Si Volvemos', 'Too Many Nights', 'Blind', 'Trustfall', 'Do It Again', 'Slut Me Out', 'La Jumpa', 'Shut Up My Moms Calling', 'Gold', 'Back End']\n"
     ]
    }
   ],
   "source": [
    "songs=[i.find('h3').text.strip() for i in soup.find_all('div', class_='o-chart-results-list-row-container')]\n",
    "print(songs)"
   ]
  },
  {
   "cell_type": "code",
   "execution_count": 5,
   "id": "edb27202",
   "metadata": {},
   "outputs": [
    {
     "name": "stdout",
     "output_type": "stream",
     "text": [
      "['Miley Cyrus', 'SZA', 'PinkPantheress & Ice Spice', 'Metro Boomin, The Weeknd & 21 Savage', 'Morgan Wallen', 'The Weeknd', 'Sam Smith & Kim Petras', 'Taylor Swift', 'Beyonce', 'David Guetta & Bebe Rexha', 'Lil Uzi Vert', 'Harry Styles', 'Kane Brown With Katelyn Brown', 'Drake & 21 Savage', 'Morgan Wallen', 'Bailey Zimmerman', 'Coi Leray', 'Chris Brown', 'Rema & Selena Gomez', 'Morgan Wallen', 'Meghan Trainor', 'Taylor Swift', 'RAYE Featuring 070 Shake', 'Luke Combs', 'Metro Boomin, Future & Chris Brown', 'Zach Bryan', 'JVKE', 'Miguel', 'Lainey Wilson', 'Steve Lacy', 'Stephen Sanchez', 'SZA', 'SZA', 'Superstar Pride', 'Future Featuring Drake & Tems', 'Luke Combs', 'Post Malone Featuring Doja Cat', 'Luke Combs', 'Fuerza Regida X Grupo Frontera', 'Bizarrap & Shakira', 'HARDY Featuring Lainey Wilson', 'Cole Swindell', 'Zach Bryan Featuring Maggie Rogers', 'Jordan Davis', 'Lizzo', 'GloRilla & Cardi B', 'Lady Gaga', 'SZA', 'NF', 'Sia', 'Toosii', 'Rihanna', 'Carly Pearce', 'The Kid LAROI', 'Lizzo Featuring SZA', 'Carin Leon X Grupo Frontera', 'Drake & 21 Savage', 'Parker McCollum', 'Corey Kent', 'Morgan Wallen', 'Morgan Wallen', 'Lil Uzi Vert', 'Niall Horan', 'Lil Baby', 'SZA', 'Megan Moroney', 'Jordan Davis', 'Ice Spice', 'Polo G & Future', 'Gabito Ballesteros, Peso Pluma & Natanael Cano', 'Brett Young', 'Sabrina Carpenter', 'Tiesto Featuring Tate McRae', 'Linkin Park', 'Lizzy McAlpine', 'Metro Boomin, Travis Scott & Young Thug', 'Jason Aldean', 'd4vd', 'Peso Pluma X Natanael Cano', 'Morgan Wallen', 'Lil Baby Featuring Fridayy', 'Grupo Frontera', 'Latto Featuring LU KALA', 'Tory Lanez', 'Cody Johnson', 'Future', 'Tyler Hubbard', 'Ozuna Featuring Feid', 'NewJeans', 'Yandel & Feid', 'Karol G x Romeo Santos', 'Metro Boomin Featuring Don Toliver & Future', 'SZA', 'P!nk', 'NLE Choppa & 2Rare', 'NLE Choppa', 'Arcangel & Bad Bunny', 'Hotel Ugly', 'Dierks Bentley', 'Finesse2Tymes']\n"
     ]
    }
   ],
   "source": [
    "artists=[i.find('h3').find_next('span').text.strip() for i in soup.find_all('div', class_='o-chart-results-list-row-container')]\n",
    "print(artists)"
   ]
  },
  {
   "cell_type": "code",
   "execution_count": 9,
   "id": "ee429f75",
   "metadata": {},
   "outputs": [
    {
     "data": {
      "text/html": [
       "<div>\n",
       "<style scoped>\n",
       "    .dataframe tbody tr th:only-of-type {\n",
       "        vertical-align: middle;\n",
       "    }\n",
       "\n",
       "    .dataframe tbody tr th {\n",
       "        vertical-align: top;\n",
       "    }\n",
       "\n",
       "    .dataframe thead th {\n",
       "        text-align: right;\n",
       "    }\n",
       "</style>\n",
       "<table border=\"1\" class=\"dataframe\">\n",
       "  <thead>\n",
       "    <tr style=\"text-align: right;\">\n",
       "      <th></th>\n",
       "      <th>chart_rank</th>\n",
       "      <th>artist name</th>\n",
       "      <th>song name</th>\n",
       "    </tr>\n",
       "  </thead>\n",
       "  <tbody>\n",
       "    <tr>\n",
       "      <th>0</th>\n",
       "      <td>1</td>\n",
       "      <td>Miley Cyrus</td>\n",
       "      <td>Flowers</td>\n",
       "    </tr>\n",
       "    <tr>\n",
       "      <th>1</th>\n",
       "      <td>2</td>\n",
       "      <td>SZA</td>\n",
       "      <td>Kill Bill</td>\n",
       "    </tr>\n",
       "    <tr>\n",
       "      <th>2</th>\n",
       "      <td>3</td>\n",
       "      <td>PinkPantheress &amp; Ice Spice</td>\n",
       "      <td>Boy's A Liar, Pt. 2</td>\n",
       "    </tr>\n",
       "    <tr>\n",
       "      <th>3</th>\n",
       "      <td>4</td>\n",
       "      <td>Metro Boomin, The Weeknd &amp; 21 Savage</td>\n",
       "      <td>Creepin'</td>\n",
       "    </tr>\n",
       "    <tr>\n",
       "      <th>4</th>\n",
       "      <td>5</td>\n",
       "      <td>Morgan Wallen</td>\n",
       "      <td>Last Night</td>\n",
       "    </tr>\n",
       "    <tr>\n",
       "      <th>...</th>\n",
       "      <td>...</td>\n",
       "      <td>...</td>\n",
       "      <td>...</td>\n",
       "    </tr>\n",
       "    <tr>\n",
       "      <th>95</th>\n",
       "      <td>96</td>\n",
       "      <td>NLE Choppa</td>\n",
       "      <td>Slut Me Out</td>\n",
       "    </tr>\n",
       "    <tr>\n",
       "      <th>96</th>\n",
       "      <td>97</td>\n",
       "      <td>Arcangel &amp; Bad Bunny</td>\n",
       "      <td>La Jumpa</td>\n",
       "    </tr>\n",
       "    <tr>\n",
       "      <th>97</th>\n",
       "      <td>98</td>\n",
       "      <td>Hotel Ugly</td>\n",
       "      <td>Shut Up My Moms Calling</td>\n",
       "    </tr>\n",
       "    <tr>\n",
       "      <th>98</th>\n",
       "      <td>99</td>\n",
       "      <td>Dierks Bentley</td>\n",
       "      <td>Gold</td>\n",
       "    </tr>\n",
       "    <tr>\n",
       "      <th>99</th>\n",
       "      <td>100</td>\n",
       "      <td>Finesse2Tymes</td>\n",
       "      <td>Back End</td>\n",
       "    </tr>\n",
       "  </tbody>\n",
       "</table>\n",
       "<p>100 rows × 3 columns</p>\n",
       "</div>"
      ],
      "text/plain": [
       "   chart_rank                           artist name                song name\n",
       "0           1                           Miley Cyrus                  Flowers\n",
       "1           2                                   SZA                Kill Bill\n",
       "2           3            PinkPantheress & Ice Spice      Boy's A Liar, Pt. 2\n",
       "3           4  Metro Boomin, The Weeknd & 21 Savage                 Creepin'\n",
       "4           5                         Morgan Wallen               Last Night\n",
       "..        ...                                   ...                      ...\n",
       "95         96                            NLE Choppa              Slut Me Out\n",
       "96         97                  Arcangel & Bad Bunny                 La Jumpa\n",
       "97         98                            Hotel Ugly  Shut Up My Moms Calling\n",
       "98         99                        Dierks Bentley                     Gold\n",
       "99        100                         Finesse2Tymes                 Back End\n",
       "\n",
       "[100 rows x 3 columns]"
      ]
     },
     "execution_count": 9,
     "metadata": {},
     "output_type": "execute_result"
    }
   ],
   "source": [
    "pd.DataFrame(zip(chart_row,artists,songs), columns=[\"chart_rank\",\"artist name\", \"song name\"])"
   ]
  },
  {
   "cell_type": "code",
   "execution_count": null,
   "id": "f7c97fab",
   "metadata": {},
   "outputs": [],
   "source": []
  },
  {
   "cell_type": "code",
   "execution_count": null,
   "id": "a626c65a",
   "metadata": {},
   "outputs": [],
   "source": []
  },
  {
   "cell_type": "code",
   "execution_count": null,
   "id": "196909c5",
   "metadata": {},
   "outputs": [],
   "source": []
  }
 ],
 "metadata": {
  "kernelspec": {
   "display_name": "Python 3 (ipykernel)",
   "language": "python",
   "name": "python3"
  },
  "language_info": {
   "codemirror_mode": {
    "name": "ipython",
    "version": 3
   },
   "file_extension": ".py",
   "mimetype": "text/x-python",
   "name": "python",
   "nbconvert_exporter": "python",
   "pygments_lexer": "ipython3",
   "version": "3.9.12"
  }
 },
 "nbformat": 4,
 "nbformat_minor": 5
}
